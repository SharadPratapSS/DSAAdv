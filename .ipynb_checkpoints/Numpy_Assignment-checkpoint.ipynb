{
  "nbformat": 4,
  "nbformat_minor": 0,
  "metadata": {
    "colab": {
      "provenance": []
    },
    "kernelspec": {
      "name": "python3",
      "display_name": "Python 3"
    },
    "language_info": {
      "name": "python"
    }
  },
  "cells": [
    {
      "cell_type": "code",
      "execution_count": null,
      "metadata": {
        "id": "XbVErTCmY6AP"
      },
      "outputs": [],
      "source": [
        "import numpy as np"
      ]
    },
    {
      "cell_type": "markdown",
      "source": [
        "1. Create a 3x3 NumPy array with random integers between 1 and 100. Then, interchange its rows and columns."
      ],
      "metadata": {
        "id": "rihvHHC_l66-"
      }
    },
    {
      "cell_type": "code",
      "source": [
        "# arr is the array of 3*3\n",
        "arr=np.random.randint(1,100,(3,3))\n",
        "# .T is used to interchange rows and columns.\n",
        "arr.T"
      ],
      "metadata": {
        "id": "UiQpMgXDl8bU"
      },
      "execution_count": null,
      "outputs": []
    },
    {
      "cell_type": "markdown",
      "source": [
        "2. Generate a 1D NumPy array with 10 elements. Reshape it into a 2x5 array, then into a 5x2 array."
      ],
      "metadata": {
        "id": "Utm0IYDsnkcv"
      }
    },
    {
      "cell_type": "code",
      "source": [
        "arr=np.array(range(10))\n",
        "arr.reshape(2,5)\n",
        "arr.reshape(5,2)"
      ],
      "metadata": {
        "id": "rJHF7hpInpUF"
      },
      "execution_count": null,
      "outputs": []
    },
    {
      "cell_type": "markdown",
      "source": [
        "3. Create a 4x4 NumPy array with random float values. Add a border of zeros around it, resulting in a 6x6 array."
      ],
      "metadata": {
        "id": "qnl1H-u7oDHH"
      }
    },
    {
      "cell_type": "code",
      "source": [
        "arr=np.random.random((4,4))\n",
        "arr=np.pad(arr,pad_width=1,mode='constant',constant_values=0)"
      ],
      "metadata": {
        "id": "jZPPPoGOoGtw"
      },
      "execution_count": null,
      "outputs": []
    },
    {
      "cell_type": "markdown",
      "source": [
        "4. Using NumPy, create an array of integers from 10 to 60 with a step of 5."
      ],
      "metadata": {
        "id": "F_rGgx7lqXhR"
      }
    },
    {
      "cell_type": "code",
      "source": [
        "arr=np.array(range(10,61,5))"
      ],
      "metadata": {
        "id": "6dj10S1EqbuN"
      },
      "execution_count": null,
      "outputs": []
    },
    {
      "cell_type": "markdown",
      "source": [
        "5. Create a NumPy array of strings ['python', 'numpy', 'pandas']. Apply different case transformations\n",
        "(uppercase, lowercase, title case, etc.) to each element."
      ],
      "metadata": {
        "id": "XDIa9ATxq_Xp"
      }
    },
    {
      "cell_type": "code",
      "source": [
        "arr=np.array(['python', 'numpy', 'pandas'])\n",
        "upper_arr = np.char.upper(arr)\n",
        "lower_arr = np.char.lower(arr)\n",
        "title_arr = np.char.title(arr)\n",
        "capitalize_arr = np.char.capitalize(arr)\n",
        "swap_arr = np.char.swapcase(arr)"
      ],
      "metadata": {
        "id": "RX1wEOIDrDM6"
      },
      "execution_count": null,
      "outputs": []
    },
    {
      "cell_type": "markdown",
      "source": [
        "6. Generate a NumPy array of words. Insert a space between each character of every word in the array."
      ],
      "metadata": {
        "id": "jJPdNRaEo_tv"
      }
    },
    {
      "cell_type": "code",
      "source": [
        "words = np.array([\"hello\", \"world\", \"numpy\", \"array\", \"python\"])\n",
        "def add_spaces(word):\n",
        "    return ' '.join(list(word))\n",
        "spaced_words = np.array([add_spaces(word) for word in words])"
      ],
      "metadata": {
        "id": "j4bcLqSQpDEQ"
      },
      "execution_count": null,
      "outputs": []
    },
    {
      "cell_type": "markdown",
      "source": [
        "7. Create two 2D NumPy arrays and perform element-wise addition, subtraction, multiplication, and division."
      ],
      "metadata": {
        "id": "4qojK8dipO_B"
      }
    },
    {
      "cell_type": "code",
      "source": [
        "arr1=np.array([[ 6, 10,  5,  9,  7],[ 9,  7,  5, 10,  6]])\n",
        "arr2=np.array([[ 5,  9,  6,  4,  7],[10,  9,  9,  5,  2]])\n",
        "add_array=arr1+arr2\n",
        "sub_array=arr1-arr2\n",
        "mul_array=arr1*arr2\n",
        "div_array=arr1/arr2\n",
        "\n"
      ],
      "metadata": {
        "id": "0yPd4uknpQiJ"
      },
      "execution_count": null,
      "outputs": []
    },
    {
      "cell_type": "markdown",
      "source": [
        "8. Use NumPy to create a 5x5 identity matrix, then extract its diagonal elements."
      ],
      "metadata": {
        "id": "j6r6T6t6rbLz"
      }
    },
    {
      "cell_type": "code",
      "source": [
        "identity_matrix=np.eye(5)\n",
        "diagonal_elements = np.diag(identity_matrix)"
      ],
      "metadata": {
        "id": "67FYyi7lrdjn"
      },
      "execution_count": null,
      "outputs": []
    },
    {
      "cell_type": "markdown",
      "source": [
        "9. Generate a NumPy array of 100 random integers between 0 and 1000. Find and display all prime numbers in\n",
        "this array"
      ],
      "metadata": {
        "id": "68wK7Q3Nsj9r"
      }
    },
    {
      "cell_type": "code",
      "source": [
        "arr=np.random.randint(0,1000,100)\n",
        "arr[arr/2]"
      ],
      "metadata": {
        "id": "YqkkfaQ6slH_"
      },
      "execution_count": null,
      "outputs": []
    },
    {
      "cell_type": "markdown",
      "source": [
        "10. Create a NumPy array representing daily temperatures for a month. Calculate and display the weekly\n",
        "averages."
      ],
      "metadata": {
        "id": "Qtd29QCZSm-0"
      }
    },
    {
      "cell_type": "code",
      "source": [
        "temperatures = np.random.uniform(20, 35, 30)\n",
        "week_averages = [np.mean(temperatures[i:i + 7]) for i in range(0, 28, 7)]\n",
        "remaining_days_avg = np.mean(temperatures[28:])"
      ],
      "metadata": {
        "id": "WE3l3BdqSoJ5"
      },
      "execution_count": null,
      "outputs": []
    }
  ]
}