{
 "cells": [
  {
   "cell_type": "markdown",
   "id": "f5b35632-dc1d-4a7a-938f-ec16dad8bf0b",
   "metadata": {},
   "source": [
    "Q1. 1. What are the five key concepts of Object-Oriented Programming (OOP)?\n",
    "\n",
    "The five key concepts of Object-Oriented Programming (OOP) are:\n",
    "\n",
    "1. Encapsulation: This concept wraps data (variables) and methods (functions) into a single unit called an object. By using access modifiers (e.g., private, protected, public), encapsulation restricts direct access to some components, allowing controlled interaction through getter and setter methods. This hides the internal state of an object and protects it from unintended interference.\n",
    "\n",
    "2. Abstraction: Abstraction focuses on exposing only the essential features of an object, hiding complex implementation details from the user. This is done through abstract classes and interfaces, allowing developers to interact with objects through a simplified, high-level interface.\n",
    "\n",
    "3. Inheritance: Inheritance allows a new class (subclass) to inherit the attributes and methods of an existing class (superclass). This promotes code reuse, where shared behaviors are defined in a parent class, and subclasses inherit or override these behaviors as needed.\n",
    "\n",
    "4. Polymorphism: Polymorphism allows objects to be treated as instances of their parent class, even if they are actually instances of a derived class. It enables methods to do different things based on the object it is acting upon, usually achieved through method overriding and overloading.\n",
    "\n",
    "5. Composition: Often considered a complement to inheritance, composition is the design principle of building classes by combining objects rather than inheriting them. It allows a class to contain objects of other classes, promoting flexibility and reusability while avoiding the tight coupling that can come with inheritance."
   ]
  },
  {
   "cell_type": "markdown",
   "id": "71cd8fcd-2b96-4b3b-a653-e263666cd3c2",
   "metadata": {},
   "source": [
    "Q2. 2. Write a Python class for a `Car` with attributes for `make`, `model`, and `year`. Include a method to display\r\n",
    "the car's information\n",
    "\n",
    "Here’s a Python class for a Car with attributes for make, model, and year, along with a method to display the car’s information:."
   ]
  },
  {
   "cell_type": "code",
   "execution_count": null,
   "id": "7419b200-491d-4653-ae88-355a61af0f15",
   "metadata": {},
   "outputs": [],
   "source": [
    "class Car:\n",
    "    def __init__(self, make, model, year):\n",
    "        self.make = make\n",
    "        self.model = model\n",
    "        self.year = year\n",
    "\n",
    "    def display_info(self):\n",
    "        print(f\"Car Information: {self.year} {self.make} {self.model}\")\n",
    "\n",
    "# Example usage\n",
    "my_car = Car(\"Toyota\", \"Corolla\", 2022)\n",
    "my_car.display_info()\n"
   ]
  },
  {
   "cell_type": "markdown",
   "id": "70d1a861-0ab9-48ed-8027-487bbd3fdb35",
   "metadata": {},
   "source": [
    "Q3. Explain the difference between instance methods and class methods. Provide an example of each.\n",
    "\n",
    "Instance Methods\n",
    "Instance methods are defined with a self parameter, which refers to the specific instance of the class on which they are called. They can access and modify the attributes of that instance.\n",
    "\n",
    "Example of an Instance Method:"
   ]
  },
  {
   "cell_type": "code",
   "execution_count": null,
   "id": "d3a54dd9-fdb6-4293-9664-89a668b780f1",
   "metadata": {},
   "outputs": [],
   "source": [
    "class Car:\n",
    "    def __init__(self, make, model):\n",
    "        self.make = make\n",
    "        self.model = model\n",
    "\n",
    "    def display_info(self):\n",
    "        # Instance method accessing instance attributes\n",
    "        return f\"Car Make: {self.make}, Model: {self.model}\"\n",
    "\n",
    "# Creating an instance of Car\n",
    "my_car = Car(\"Toyota\", \"Corolla\")\n",
    "print(my_car.display_info())  # Output: Car Make: Toyota, Model: Corolla\n"
   ]
  },
  {
   "cell_type": "markdown",
   "id": "e7143dfc-5c54-4e9d-8e87-b58bbacad095",
   "metadata": {},
   "source": [
    "Class Methods\n",
    "Class methods are defined with the @classmethod decorator and use cls as their first parameter, referring to the class itself rather than an instance. They can be used to create alternative constructors or perform actions that relate to the class as a whole.\n",
    "\n",
    "Example of a Class Method:"
   ]
  },
  {
   "cell_type": "code",
   "execution_count": null,
   "id": "a7fec7ab-67f9-46e6-b07a-dd0f7a670ade",
   "metadata": {},
   "outputs": [],
   "source": [
    "class Car:\n",
    "    make = \"Generic Make\"  # Class attribute\n",
    "\n",
    "    def __init__(self, model):\n",
    "        self.model = model\n",
    "\n",
    "    @classmethod\n",
    "    def set_make(cls, make):\n",
    "        # Class method modifying a class attribute\n",
    "        cls.make = make\n",
    "\n",
    "    def display_info(self):\n",
    "        return f\"Car Make: {self.make}, Model: {self.model}\"\n",
    "\n",
    "# Using class method to set make for all instances\n",
    "Car.set_make(\"Toyota\")\n",
    "my_car = Car(\"Corolla\")\n",
    "print(my_car.display_info())  # Output: Car Make: Toyota, Model: Corolla"
   ]
  },
  {
   "cell_type": "markdown",
   "id": "8de8c055-0117-4456-ae92-6443217c8ea8",
   "metadata": {},
   "source": [
    "Q4. How does Python implement method overloading? Give an example.\n",
    "\n",
    "In Python, method overloading is not supported directly like in some other languages. Instead, Python uses default arguments or *args and **kwargs to achieve similar functionality by allowing methods to handle different numbers or types of arguments.\n",
    "Example of Method Overloading:"
   ]
  },
  {
   "cell_type": "code",
   "execution_count": null,
   "id": "c0586c74-2cf2-47c1-83d2-1d13f0f39599",
   "metadata": {},
   "outputs": [],
   "source": [
    "class MathOperations:\n",
    "    def add(self, a, b=0, c=0):\n",
    "        return a + b + c\n",
    "\n",
    "# Usage\n",
    "math_ops = MathOperations()\n",
    "\n",
    "# Calling add with two arguments\n",
    "print(math_ops.add(5, 10))  # Output: 15\n",
    "\n",
    "# Calling add with three arguments\n",
    "print(math_ops.add(5, 10, 15))  # Output: 30\n"
   ]
  },
  {
   "cell_type": "markdown",
   "id": "a82d5366-5586-428a-b2fe-b93d00a09e71",
   "metadata": {},
   "source": [
    "In this example, the add method takes one required parameter (a) and two optional parameters (b and c). This allows it to act differently based on the number of arguments provided."
   ]
  },
  {
   "cell_type": "markdown",
   "id": "a2deef0d-3af5-4518-a041-babfe31760ac",
   "metadata": {},
   "source": [
    "Example of Method Overloading with *args :"
   ]
  },
  {
   "cell_type": "code",
   "execution_count": null,
   "id": "fa647138-8d18-4f16-853a-2d5d54c8b85a",
   "metadata": {},
   "outputs": [],
   "source": [
    "class MathOperations:\n",
    "    def add(self, *args):\n",
    "        return sum(args)\n",
    "\n",
    "# Usage\n",
    "math_ops = MathOperations()\n",
    "\n",
    "# Calling add with different numbers of arguments\n",
    "print(math_ops.add(5, 10))       # Output: 15\n",
    "print(math_ops.add(5, 10, 15))   # Output: 30\n",
    "print(math_ops.add(5, 10, 15, 20))  # Output: 50\n"
   ]
  },
  {
   "cell_type": "markdown",
   "id": "c879f4ec-cbac-49bb-acf3-2f4b11270147",
   "metadata": {},
   "source": [
    "Here, the add method uses *args to accept a variable number of arguments. It sums all values in args, making it flexible enough to handle different numbers of arguments in a way similar to method overloading."
   ]
  },
  {
   "cell_type": "markdown",
   "id": "6dc8bc42-c5e5-483f-aab9-bd074ae355b4",
   "metadata": {},
   "source": [
    "Q5. What are the three types of access modifiers in Python? How are they denoted?\n",
    "\n",
    "In Python, there are three levels of access modifiers to control the visibility of class attributes and methods:\n",
    "\n",
    "1. Public\n",
    "Denoted by: No leading underscores (e.g., attribute).\n",
    "Accessibility: Public members are accessible from any part of the code, both inside and outside the class.\n",
    "Example:"
   ]
  },
  {
   "cell_type": "code",
   "execution_count": null,
   "id": "8c967508-8144-4c10-a322-67676b879873",
   "metadata": {},
   "outputs": [],
   "source": [
    "class Car:\n",
    "    def __init__(self, make):\n",
    "        self.make = make  # Public attribute\n",
    "\n",
    "my_car = Car(\"Toyota\")\n",
    "print(my_car.make)  # Accessible from outside the class\n"
   ]
  },
  {
   "cell_type": "markdown",
   "id": "6b007e21-baa4-4c0c-8eaf-718719913686",
   "metadata": {},
   "source": [
    "2. Protected\n",
    "Denoted by: A single leading underscore (e.g., _attribute).\n",
    "Accessibility: Protected members are intended to be accessible within the class and its subclasses. They are not enforced as truly protected, but by convention, they indicate that the member should not be accessed directly from outside the class.\n",
    "Example:"
   ]
  },
  {
   "cell_type": "code",
   "execution_count": null,
   "id": "3a8b836a-6a2d-4d32-9cf7-60a11f5e1dca",
   "metadata": {},
   "outputs": [],
   "source": [
    "class Car:\n",
    "    def __init__(self, make):\n",
    "        self._make = make  # Protected attribute\n",
    "\n",
    "    def _display_make(self):  # Protected method\n",
    "        return self._make\n",
    "\n",
    "class ElectricCar(Car):\n",
    "    def show_make(self):\n",
    "        return self._display_make()  # Accessible within a subclass\n",
    "\n",
    "my_car = ElectricCar(\"Tesla\")\n",
    "print(my_car.show_make())  # Output: Tesla\n"
   ]
  },
  {
   "cell_type": "markdown",
   "id": "58039d21-46e8-490a-a88a-21fc364e6c8e",
   "metadata": {},
   "source": [
    "3. Private\n",
    "Denoted by: A double leading underscore (e.g., __attribute).\n",
    "Accessibility: Private members are accessible only within the class itself. Python performs name mangling to prevent direct access to these members from outside the class, although they can still be accessed in special cases.\n",
    "Example:"
   ]
  },
  {
   "cell_type": "code",
   "execution_count": null,
   "id": "3822ccd4-035d-44ac-a984-a2e62f255198",
   "metadata": {},
   "outputs": [],
   "source": [
    "class Car:\n",
    "    def __init__(self, make):\n",
    "        self.__make = make  # Private attribute\n",
    "\n",
    "    def get_make(self):\n",
    "        return self.__make  # Public method to access private attribute\n",
    "\n",
    "my_car = Car(\"Ford\")\n",
    "print(my_car.get_make())  # Output: Ford\n"
   ]
  },
  {
   "cell_type": "markdown",
   "id": "133df5ac-feb9-40a1-b843-fc72c1a95e9d",
   "metadata": {},
   "source": [
    "Q6. Describe the five types of inheritance in Python. Provide a simple example of multiple inheritance.\n",
    "\n",
    "In Python, there are five types of inheritance, which define how classes inherit properties and behaviors from other classes:\n",
    "\n",
    "1. Single Inheritance\n",
    "A subclass inherits from a single parent class. This is the simplest form of inheritance."
   ]
  },
  {
   "cell_type": "code",
   "execution_count": null,
   "id": "14540708-6b5b-4050-9135-e6a1353a5146",
   "metadata": {},
   "outputs": [],
   "source": [
    "class Animal:\n",
    "    def speak(self):\n",
    "        return \"Animal sound\"\n",
    "\n",
    "class Dog(Animal):\n",
    "    def bark(self):\n",
    "        return \"Woof!\"\n"
   ]
  },
  {
   "cell_type": "markdown",
   "id": "9345ede0-aaae-4d49-b002-213f2f8a3275",
   "metadata": {},
   "source": [
    "2. Multiple Inheritance\n",
    "A subclass inherits from more than one parent class, combining behaviors from multiple classes. Python handles this with the Method Resolution Order (MRO) to resolve any conflicts."
   ]
  },
  {
   "cell_type": "code",
   "execution_count": null,
   "id": "8a0b143c-9a50-4fa4-83ae-27f2cda7251c",
   "metadata": {},
   "outputs": [],
   "source": [
    "class Engine:\n",
    "    def start(self):\n",
    "        return \"Engine starts\"\n",
    "\n",
    "class Radio:\n",
    "    def play_music(self):\n",
    "        return \"Playing music\"\n",
    "\n",
    "class Car(Engine, Radio):\n",
    "    pass\n",
    "\n",
    "my_car = Car()\n",
    "print(my_car.start())        # Output: Engine starts\n",
    "print(my_car.play_music())   # Output: Playing music\n"
   ]
  },
  {
   "cell_type": "markdown",
   "id": "762e1453-acc3-40f2-b199-66bc2ee53832",
   "metadata": {},
   "source": [
    "3. Multilevel Inheritance\n",
    "A class inherits from a subclass, forming a chain of inheritance with multiple levels."
   ]
  },
  {
   "cell_type": "code",
   "execution_count": null,
   "id": "bec0267a-43a1-4e08-a090-c7dd907c7faa",
   "metadata": {},
   "outputs": [],
   "source": [
    "class Animal:\n",
    "    def live(self):\n",
    "        return \"Living being\"\n",
    "\n",
    "class Mammal(Animal):\n",
    "    def feed_milk(self):\n",
    "        return \"Feeding milk\"\n",
    "\n",
    "class Dog(Mammal):\n",
    "    def bark(self):\n",
    "        return \"Woof!\"\n"
   ]
  },
  {
   "cell_type": "markdown",
   "id": "0e220669-eb13-41da-a74e-2bd2451459f5",
   "metadata": {
    "editable": true,
    "slideshow": {
     "slide_type": ""
    },
    "tags": []
   },
   "source": [
    "4. Hierarchical Inheritance\n",
    "Multiple subclasses inherit from a single parent class, creating a tree-like structure."
   ]
  },
  {
   "cell_type": "code",
   "execution_count": null,
   "id": "7fee6d2a-c2ff-44a9-9e66-1e83cb1a5b48",
   "metadata": {},
   "outputs": [],
   "source": [
    "class Animal:\n",
    "    def live(self):\n",
    "        return \"Living being\"\n",
    "\n",
    "class Dog(Animal):\n",
    "    def bark(self):\n",
    "        return \"Woof!\"\n",
    "\n",
    "class Cat(Animal):\n",
    "    def meow(self):\n",
    "        return \"Meow!\"\n"
   ]
  },
  {
   "cell_type": "markdown",
   "id": "5730ef79-3a00-4a34-9ecc-67848670151f",
   "metadata": {},
   "source": [
    "5. Hybrid Inheritance\n",
    "A combination of two or more types of inheritance, such as hierarchical and multiple inheritance. Python handles these cases using the C3 Linearization algorithm.\n",
    "\n"
   ]
  },
  {
   "cell_type": "code",
   "execution_count": null,
   "id": "bccecf40-93d0-4b2a-8d06-8748603fabe4",
   "metadata": {},
   "outputs": [],
   "source": [
    "class Flyer:\n",
    "    def fly(self):\n",
    "        return \"Flying\"\n",
    "\n",
    "class Swimmer:\n",
    "    def swim(self):\n",
    "        return \"Swimming\"\n",
    "\n",
    "class Duck(Flyer, Swimmer):\n",
    "    def quack(self):\n",
    "        return \"Quacking\"\n",
    "\n",
    "duck = Duck()\n",
    "print(duck.fly())      # Output: Flying\n",
    "print(duck.swim())     # Output: Swimming\n",
    "print(duck.quack())    # Output: Quacking\n"
   ]
  },
  {
   "cell_type": "markdown",
   "id": "e1e31e4a-0015-4466-8ec8-2821c60f0975",
   "metadata": {},
   "source": [
    "In this example, Duck inherits from both Flyer and Swimmer, so it can use both the fly and swim methods. This is an example of multiple inheritance, where Duck combines the behaviors from multiple parent classes."
   ]
  },
  {
   "cell_type": "markdown",
   "id": "7e945f4e-c31d-490e-af9e-4768d23a0371",
   "metadata": {},
   "source": [
    "Q7. What is the Method Resolution Order (MRO) in Python? How can you retrieve it programmatically?\n",
    "\n",
    "In Python, the Method Resolution Order (MRO) is the order in which Python searches for a method in a hierarchy of classes during inheritance. The MRO determines the sequence in which base classes are checked when a method or attribute is called on an instance. Python uses the C3 Linearization algorithm to compute the MRO, which ensures a consistent and predictable order for resolving methods and attributes.\n",
    "The MRO is especially important in cases of multiple and hybrid inheritance, where multiple classes may define methods with the same name.\n",
    "\n",
    "How to Retrieve the MRO Programmatically\n",
    "You can retrieve the MRO of a class using:\n",
    "\n",
    "The __mro__ attribute: This attribute provides the MRO as a tuple of classes.\n",
    "The mro() method: This method returns the MRO as a list.\n",
    "Example"
   ]
  },
  {
   "cell_type": "code",
   "execution_count": null,
   "id": "78aeb011-c6bb-447e-839f-7179115b4f86",
   "metadata": {},
   "outputs": [],
   "source": [
    "class A:\n",
    "    pass\n",
    "\n",
    "class B(A):\n",
    "    pass\n",
    "\n",
    "class C(A):\n",
    "    pass\n",
    "\n",
    "class D(B, C):\n",
    "    pass\n",
    "\n",
    "# Retrieve MRO using __mro__ attribute\n",
    "print(D.__mro__)\n",
    "# Output: (<class '__main__.D'>, <class '__main__.B'>, <class '__main__.C'>, <class '__main__.A'>, <class 'object'>)\n",
    "\n",
    "# Retrieve MRO using mro() method\n",
    "print(D.mro())\n",
    "# Output: [<class '__main__.D'>, <class '__main__.B'>, <class '__main__.C'>, <class '__main__.A'>, <class 'object'>]\n"
   ]
  },
  {
   "cell_type": "markdown",
   "id": "7c9b1a89-a575-453b-a856-f214294c9597",
   "metadata": {},
   "source": [
    "Explanation of the Output\n",
    "The MRO for class D (D.mro() or D.__mro__) specifies that Python will first look for methods in D, then B, then C, followed by A, and finally the built-in object class. This order ensures consistent and predictable method resolution across the inheritance hierarchy."
   ]
  },
  {
   "cell_type": "markdown",
   "id": "3343dac9-7f80-410f-9674-b4a185315cd3",
   "metadata": {},
   "source": [
    "Q8. Create an abstract base class `Shape` with an abstract method `area()`. Then create two subclasses\n",
    "`Circle` and `Rectangle` that implement the `area()` method.\n",
    "\n",
    "Code for the above problem is following:"
   ]
  },
  {
   "cell_type": "code",
   "execution_count": null,
   "id": "caac9c7a-fb09-4342-948a-b74912645b19",
   "metadata": {},
   "outputs": [],
   "source": [
    "from abc import ABC, abstractmethod\n",
    "import math\n",
    "\n",
    "class Shape(ABC):\n",
    "    @abstractmethod\n",
    "    def area(self):\n",
    "        pass\n",
    "\n",
    "class Circle(Shape):\n",
    "    def __init__(self, radius):\n",
    "        self.radius = radius\n",
    "\n",
    "    def area(self):\n",
    "        return math.pi * (self.radius ** 2)\n",
    "\n",
    "class Rectangle(Shape):\n",
    "    def __init__(self, width, height):\n",
    "        self.width = width\n",
    "        self.height = height\n",
    "\n",
    "    def area(self):\n",
    "        return self.width * self.height\n",
    "\n",
    "# Example usage\n",
    "circle = Circle(5)\n",
    "rectangle = Rectangle(4, 6)\n",
    "\n",
    "print(f\"Circle area: {circle.area():.2f}\")  # Output: Circle area: 78.54\n",
    "print(f\"Rectangle area: {rectangle.area()}\")  # Output: Rectangle area: 24\n"
   ]
  },
  {
   "cell_type": "markdown",
   "id": "17a264cf-6f9a-4745-a7d2-5d2d17c4b59a",
   "metadata": {},
   "source": [
    "Q9. Demonstrate polymorphism by creating a function that can work with different shape objects to calculate\r\n",
    "and print their areas\n",
    "\n",
    "To demonstrate polymorphism, we can create a function that accepts any object with an area() method and calculates and prints its area. This allows different shape objects (like Circle and Rectangle) to be passed to the same function, which will work with each of them interchangeably.\n",
    "For Example:."
   ]
  },
  {
   "cell_type": "code",
   "execution_count": null,
   "id": "9f46404b-da35-4501-a778-7372fe9df2bf",
   "metadata": {},
   "outputs": [],
   "source": [
    "from abc import ABC, abstractmethod\n",
    "import math\n",
    "\n",
    "class Shape(ABC):\n",
    "    @abstractmethod\n",
    "    def area(self):\n",
    "        pass\n",
    "\n",
    "class Circle(Shape):\n",
    "    def __init__(self, radius):\n",
    "        self.radius = radius\n",
    "\n",
    "    def area(self):\n",
    "        return math.pi * (self.radius ** 2)\n",
    "\n",
    "class Rectangle(Shape):\n",
    "    def __init__(self, width, height):\n",
    "        self.width = width\n",
    "        self.height = height\n",
    "\n",
    "    def area(self):\n",
    "        return self.width * self.height\n",
    "\n",
    "# Polymorphic function\n",
    "def print_area(shape):\n",
    "    print(f\"The area is: {shape.area()}\")\n",
    "\n",
    "# Example usage\n",
    "circle = Circle(5)\n",
    "rectangle = Rectangle(4, 6)\n",
    "\n",
    "print_area(circle)      # Output: The area is: 78.53981633974483\n",
    "print_area(rectangle)   # Output: The area is: 24\n"
   ]
  },
  {
   "cell_type": "markdown",
   "id": "082504ef-e67b-411b-a715-721ee232b33c",
   "metadata": {},
   "source": [
    "Q10. Implement encapsulation in a `BankAccount` class with private attributes for `balance` and\n",
    "`account_number`. Include methods for deposit, withdrawal, and balance inquiry.\n",
    "\n",
    "Here’s a BankAccount class that demonstrates encapsulation by using private attributes for balance and account_number. The class includes methods for deposit, withdrawal, and balance inquiry, which manage access to these private attributes."
   ]
  },
  {
   "cell_type": "code",
   "execution_count": null,
   "id": "bb35e40d-0871-432f-919a-729aaa0d98d8",
   "metadata": {},
   "outputs": [],
   "source": [
    "class BankAccount:\n",
    "    def __init__(self, account_number, initial_balance=0):\n",
    "        self.__account_number = account_number  # Private attribute\n",
    "        self.__balance = initial_balance  # Private attribute\n",
    "\n",
    "    def deposit(self, amount):\n",
    "        if amount > 0:\n",
    "            self.__balance += amount\n",
    "            print(f\"Deposited ${amount}. New balance is ${self.__balance}.\")\n",
    "        else:\n",
    "            print(\"Deposit amount must be positive.\")\n",
    "\n",
    "    def withdraw(self, amount):\n",
    "        if 0 < amount <= self.__balance:\n",
    "            self.__balance -= amount\n",
    "            print(f\"Withdrew ${amount}. New balance is ${self.__balance}.\")\n",
    "        else:\n",
    "            print(\"Insufficient balance or invalid amount.\")\n",
    "\n",
    "    def get_balance(self):\n",
    "        return self.__balance\n",
    "\n",
    "    def get_account_number(self):\n",
    "        return self.__account_number\n",
    "\n",
    "# Example usage\n",
    "account = BankAccount(\"12345678\", 1000)\n",
    "account.deposit(500)              # Output: Deposited $500. New balance is $1500.\n",
    "account.withdraw(200)              # Output: Withdrew $200. New balance is $1300.\n",
    "print(f\"Balance: ${account.get_balance()}\")  # Output: Balance: $1300\n",
    "print(f\"Account Number: {account.get_account_number()}\")  # Output: Account Number: 12345678\n"
   ]
  },
  {
   "cell_type": "markdown",
   "id": "e823b9a9-e9de-45bd-bea3-7da1ab4cf9cf",
   "metadata": {},
   "source": [
    "Explanation\n",
    "Private Attributes: __balance and __account_number are private, indicated by the double underscores (__). They are not directly accessible outside the class.\n",
    "Deposit Method: deposit() allows adding to the balance, with a check to ensure the deposit amount is positive.\n",
    "Withdraw Method: withdraw() deducts from the balance if the requested amount is valid and does not exceed the current balance.\n",
    "Getters: get_balance() and get_account_number() methods provide controlled access to the private attributes.\n",
    "This encapsulation ensures that balance and account_number can only be modified through the defined methods, protecting these attributes from direct external modification."
   ]
  },
  {
   "cell_type": "markdown",
   "id": "71088445-eeb3-4325-971f-1c19d6a618e4",
   "metadata": {},
   "source": [
    "Q11. Write a class that overrides the `__str__` and `__add__` magic methods. What will these methods allow\r\n",
    "you to do\n",
    "\n",
    "In Python, the __str__ and __add__ magic methods allow you to customize how an object is represented as a string and how objects of that class can be added together, respectively.\n",
    "\n",
    "__str__: This method is used to define a string representation of an object, which is what will be returned when you call str(object) or use print(object).\n",
    "\n",
    "__add__: This method allows you to define the behavior of the addition operator + for instances of the class, enabling you to specify how two objects of that class should be combined.\n",
    "Example Class\n",
    "Here's an example of a Vector class that overrides both the __str__ and __add__ methods:?"
   ]
  },
  {
   "cell_type": "code",
   "execution_count": null,
   "id": "9c3cad6a-94be-4a76-a88c-4151a6a38036",
   "metadata": {},
   "outputs": [],
   "source": [
    "class Vector:\n",
    "    def __init__(self, x, y):\n",
    "        self.x = x\n",
    "        self.y = y\n",
    "\n",
    "    def __str__(self):\n",
    "        return f\"Vector({self.x}, {self.y})\"\n",
    "\n",
    "    def __add__(self, other):\n",
    "        if isinstance(other, Vector):\n",
    "            return Vector(self.x + other.x, self.y + other.y)\n",
    "        return NotImplemented\n",
    "\n",
    "# Example usage\n",
    "vector1 = Vector(2, 3)\n",
    "vector2 = Vector(4, 5)\n",
    "\n",
    "print(vector1)                   # Output: Vector(2, 3)\n",
    "print(vector2)                   # Output: Vector(4, 5)\n",
    "\n",
    "result_vector = vector1 + vector2\n",
    "print(result_vector)             # Output: Vector(6, 8)\n"
   ]
  },
  {
   "cell_type": "markdown",
   "id": "60d2555d-3de9-4a37-a08b-1e7113f04560",
   "metadata": {},
   "source": [
    "Q12. Create a decorator that measures and prints the execution time of a function.\n",
    "\n",
    "A decorate method that measures and prints the execution time of a function is given below:"
   ]
  },
  {
   "cell_type": "code",
   "execution_count": null,
   "id": "90a68a94-e8cd-4834-aa44-46c2f3ce3e3b",
   "metadata": {},
   "outputs": [],
   "source": [
    "import time\n",
    "\n",
    "def timing_decorator(func):\n",
    "    def wrapper(*args, **kwargs):\n",
    "        start_time = time.time()  # Record the start time\n",
    "        result = func(*args, **kwargs)  # Call the original function\n",
    "        end_time = time.time()  # Record the end time\n",
    "        execution_time = end_time - start_time  # Calculate the execution time\n",
    "        print(f\"Execution time for {func.__name__}: {execution_time:.4f} seconds\")\n",
    "        return result  # Return the result of the original function\n",
    "    return wrapper\n",
    "\n",
    "# Example usage\n",
    "@timing_decorator\n",
    "def example_function(n):\n",
    "    total = 0\n",
    "    for i in range(n):\n",
    "        total += i\n",
    "    return total\n",
    "\n",
    "# Calling the decorated function\n",
    "result = example_function(1000000)  # Output will include execution time\n",
    "print(f\"Result: {result}\")\n"
   ]
  },
  {
   "cell_type": "markdown",
   "id": "3aea48f4-dbf3-4edb-abf3-cf673d1b8ba7",
   "metadata": {},
   "source": [
    "Q13. Explain the concept of the Diamond Problem in multiple inheritance. How does Python resolve it?\n",
    "\n",
    "The Diamond Problem in multiple inheritance occurs when a class inherits from two or more classes that have a common ancestor. This situation can lead to ambiguity about which inherited method or attribute should be used when a method is called. The term \"diamond\" comes from the shape of the inheritance diagram, where a single class (the ancestor) is at the top, and two subclasses derive from it, which are then inherited by a fourth class.\n",
    "\n",
    "Diamond Problem Example\n",
    "Consider the following example:"
   ]
  },
  {
   "cell_type": "code",
   "execution_count": null,
   "id": "f09b31ed-04e8-487e-9f7c-4b1cc07f2f5f",
   "metadata": {},
   "outputs": [],
   "source": [
    "class A:\n",
    "    def greet(self):\n",
    "        return \"Hello from A!\"\n",
    "\n",
    "class B(A):\n",
    "    def greet(self):\n",
    "        return \"Hello from B!\"\n",
    "\n",
    "class C(A):\n",
    "    def greet(self):\n",
    "        return \"Hello from C!\"\n",
    "\n",
    "class D(B, C):\n",
    "    pass\n",
    "\n",
    "# Example usage\n",
    "d = D()\n",
    "print(d.greet())  # Output: ?\n"
   ]
  },
  {
   "cell_type": "markdown",
   "id": "d7aa2de1-1ba5-4dd4-a1ae-f4defd76f343",
   "metadata": {},
   "source": [
    "In this scenario:\n",
    "\n",
    "Class D inherits from both B and C, which both inherit from A.\n",
    "If you call d.greet(), there is ambiguity about whether to use greet() from B or C, as both classes define their own greet() method.\n",
    "How Python Resolves the Diamond Problem\n",
    "Python uses the C3 Linearization algorithm (also known as C3 superclass linearization) to resolve the diamond problem. This method provides a consistent order of resolution for method calls, ensuring that the method resolution order (MRO) is well-defined and predictable.\n",
    "\n",
    "MRO: Python computes a method resolution order that determines the order in which classes are searched for methods. You can check the MRO of a class using the __mro__ attribute or the mro() method.\n",
    "\n",
    "Example MRO:\n",
    "\n",
    "In the earlier example, you can retrieve the MRO for class D:"
   ]
  },
  {
   "cell_type": "code",
   "execution_count": null,
   "id": "aa40d3e1-6aca-4fcc-abe1-cb085af07b5d",
   "metadata": {},
   "outputs": [],
   "source": [
    "print(D.__mro__)\n",
    "# Output: (<class '__main__.D'>, <class '__main__.B'>, <class '__main__.C'>, <class '__main__.A'>, <class 'object'>)\n"
   ]
  },
  {
   "cell_type": "markdown",
   "id": "a48aee86-8399-453d-9702-5442ebfb43c8",
   "metadata": {},
   "source": [
    "Method Resolution:\n",
    "\n",
    "When d.greet() is called, Python will check the MRO: it first looks in D, then B, and finds the greet() method there, so it will output \"Hello from B!\"."
   ]
  },
  {
   "cell_type": "markdown",
   "id": "4ed69d54-37ae-4c01-b0b4-c9769d0ee2bc",
   "metadata": {},
   "source": [
    "Q14. Write a class method that keeps track of the number of instances created from a class.\n",
    "\n",
    "The following code provides a class method which keeps track of the number of instances from s class:"
   ]
  },
  {
   "cell_type": "code",
   "execution_count": null,
   "id": "b98c7445-757f-4702-956b-b132974cca4d",
   "metadata": {},
   "outputs": [],
   "source": [
    "class InstanceCounter:\n",
    "    # Class variable to keep track of the number of instances\n",
    "    instance_count = 0\n",
    "\n",
    "    def __init__(self):\n",
    "        # Increment the instance count each time a new instance is created\n",
    "        InstanceCounter.instance_count += 1\n",
    "\n",
    "    @classmethod\n",
    "    def get_instance_count(cls):\n",
    "        # Class method to return the current instance count\n",
    "        return cls.instance_count\n",
    "\n",
    "# Example usage\n",
    "obj1 = InstanceCounter()\n",
    "obj2 = InstanceCounter()\n",
    "obj3 = InstanceCounter()\n",
    "\n",
    "# Getting the number of instances created\n",
    "print(f\"Number of instances created: {InstanceCounter.get_instance_count()}\")  # Output: 3\n"
   ]
  },
  {
   "cell_type": "markdown",
   "id": "acb49cde-bfa6-4175-a056-233c815588ad",
   "metadata": {},
   "source": [
    "Q15. Implement a static method in a class that checks if a given year is a leap year.\n",
    "\n",
    "To implement a static method in a class that checks if a given year is a leap year the code is given below"
   ]
  },
  {
   "cell_type": "code",
   "execution_count": null,
   "id": "5ceaa657-b3dc-4f58-94b5-c3bfb43c3963",
   "metadata": {},
   "outputs": [],
   "source": [
    "class YearChecker:\n",
    "    @staticmethod\n",
    "    def is_leap_year(year):\n",
    "        \"\"\"Check if the given year is a leap year.\"\"\"\n",
    "        if (year % 4 == 0 and year % 100 != 0) or (year % 400 == 0):\n",
    "            return True\n",
    "        return False\n",
    "\n",
    "# Example usage\n",
    "year_to_check = 2024\n",
    "if YearChecker.is_leap_year(year_to_check):\n",
    "    print(f\"{year_to_check} is a leap year.\")\n",
    "else:\n",
    "    print(f\"{year_to_check} is not a leap year.\")\n",
    "\n",
    "year_to_check = 1900\n",
    "if YearChecker.is_leap_year(year_to_check):\n",
    "    print(f\"{year_to_check} is a leap year.\")\n",
    "else:\n",
    "    print(f\"{year_to_check} is not a leap year.\")\n"
   ]
  }
 ],
 "metadata": {
  "kernelspec": {
   "display_name": "Python 3 (ipykernel)",
   "language": "python",
   "name": "python3"
  },
  "language_info": {
   "codemirror_mode": {
    "name": "ipython",
    "version": 3
   },
   "file_extension": ".py",
   "mimetype": "text/x-python",
   "name": "python",
   "nbconvert_exporter": "python",
   "pygments_lexer": "ipython3",
   "version": "3.12.4"
  }
 },
 "nbformat": 4,
 "nbformat_minor": 5
}
