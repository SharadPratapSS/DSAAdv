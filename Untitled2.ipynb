{
 "cells": [
  {
   "cell_type": "code",
   "execution_count": 7,
   "id": "adebbe70-e056-4857-807b-247c3976590a",
   "metadata": {},
   "outputs": [
    {
     "name": "stdout",
     "output_type": "stream",
     "text": [
      "*\n",
      "**\n",
      "***\n",
      "****\n"
     ]
    }
   ],
   "source": [
    "for i in range(4):\n",
    "    for j in range(i+1):\n",
    "        print(\"*\", end=\"\")\n",
    "    print(\"\")"
   ]
  },
  {
   "cell_type": "code",
   "execution_count": 19,
   "id": "e1a98d7c-5e15-4aab-890c-75e9efbdbcea",
   "metadata": {},
   "outputs": [
    {
     "name": "stdout",
     "output_type": "stream",
     "text": [
      "[1, 'Sharad', 30, (3+2j)]\n",
      "1 <class 'int'>\n",
      "Sharad <class 'str'>\n",
      "30 <class 'int'>\n",
      "(3+2j) <class 'complex'>\n"
     ]
    }
   ],
   "source": [
    "list=[1,\"Sharad\",30,3+2j]\n",
    "print(list)\n",
    "for i in list:\n",
    "    print(f\"{i} {type(i)}\")"
   ]
  },
  {
   "cell_type": "code",
   "execution_count": 42,
   "id": "3d512126-74fd-4121-9aac-4d53c01e4316",
   "metadata": {},
   "outputs": [
    {
     "data": {
      "text/plain": [
       "True"
      ]
     },
     "execution_count": 42,
     "metadata": {},
     "output_type": "execute_result"
    }
   ],
   "source": [
    "box={1,2,3}\n",
    "3 in box"
   ]
  },
  {
   "cell_type": "code",
   "execution_count": 46,
   "id": "b9593e5f-8078-40bf-8278-a1866e24f628",
   "metadata": {},
   "outputs": [
    {
     "name": "stdout",
     "output_type": "stream",
     "text": [
      "I'm going\n"
     ]
    }
   ],
   "source": [
    "str='I\\'m going'\n",
    "print(str)"
   ]
  },
  {
   "cell_type": "code",
   "execution_count": null,
   "id": "1eb51038-c06c-4337-be3d-df8f5d5ee3fa",
   "metadata": {},
   "outputs": [],
   "source": []
  }
 ],
 "metadata": {
  "kernelspec": {
   "display_name": "Python 3 (ipykernel)",
   "language": "python",
   "name": "python3"
  },
  "language_info": {
   "codemirror_mode": {
    "name": "ipython",
    "version": 3
   },
   "file_extension": ".py",
   "mimetype": "text/x-python",
   "name": "python",
   "nbconvert_exporter": "python",
   "pygments_lexer": "ipython3",
   "version": "3.12.4"
  }
 },
 "nbformat": 4,
 "nbformat_minor": 5
}
