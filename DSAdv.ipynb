{
 "cells": [
  {
   "cell_type": "markdown",
   "id": "1567167f-bab5-4740-ba53-cca66ff0e861",
   "metadata": {},
   "source": [
    "Q1. Write a code to reverse a string"
   ]
  },
  {
   "cell_type": "code",
   "execution_count": null,
   "id": "3331cbbc-def9-4cc7-b4e9-03f9c799695d",
   "metadata": {},
   "outputs": [],
   "source": [
    "def reverse_string(input_string):\n",
    "    # Reverse the string using slicing\n",
    "    return input_string[::-1]\n",
    "\n",
    "# Example usage\n",
    "original_string = \"Hello, World!\"\n",
    "reversed_string = reverse_string(original_string)\n",
    "print(\"Original String:\", original_string)\n",
    "print(\"Reversed String:\", reversed_string)\n"
   ]
  },
  {
   "cell_type": "markdown",
   "id": "69393081-a6db-4cc4-a594-e4e1e6cccbd5",
   "metadata": {},
   "source": [
    "Q2.  Write a code to count the number of vowels in a string"
   ]
  },
  {
   "cell_type": "code",
   "execution_count": null,
   "id": "c5d2c83e-bafc-491c-be2d-e197ac2692c3",
   "metadata": {},
   "outputs": [],
   "source": [
    "def count_vowels(input_string):\n",
    "    # Define vowels\n",
    "    vowels = \"aeiouAEIOU\"\n",
    "    count = 0\n",
    "    \n",
    "    # Iterate through each character in the string\n",
    "    for char in input_string:\n",
    "        if char in vowels:\n",
    "            count += 1\n",
    "    \n",
    "    return count\n",
    "\n",
    "# Example usage\n",
    "string = \"Hello, World!\"\n",
    "vowel_count = count_vowels(string)\n",
    "print(f\"The number of vowels in '{string}' is {vowel_count}.\")"
   ]
  },
  {
   "cell_type": "markdown",
   "id": "b733f4fd-d105-43a4-97c7-01345beec7f2",
   "metadata": {},
   "source": [
    "Q3. Write a code to check if a given string is a palindrome or not."
   ]
  },
  {
   "cell_type": "code",
   "execution_count": null,
   "id": "8df349ae-29b8-40c9-8a77-f8f5484307fe",
   "metadata": {},
   "outputs": [],
   "source": [
    "def is_palindrome(input_string):\n",
    "    # Remove spaces and convert to lowercase for uniformity\n",
    "    clean_string = ''.join(input_string.split()).lower()\n",
    "    # Check if the string is equal to its reverse\n",
    "    return clean_string == clean_string[::-1]\n",
    "\n",
    "# Example usage\n",
    "string = \"A man a plan a canal Panama\"\n",
    "if is_palindrome(string):\n",
    "    print(f\"'{string}' is a palindrome.\")\n",
    "else:\n",
    "    print(f\"'{string}' is not a palindrome.\")\n"
   ]
  },
  {
   "cell_type": "markdown",
   "id": "4a0d0b0a-0267-4bb7-9ad0-33335062aec2",
   "metadata": {},
   "source": [
    "Q4. Write a code to check if two given strings are anagrams of each other"
   ]
  },
  {
   "cell_type": "code",
   "execution_count": 3,
   "id": "f0982ceb-8f25-4ee6-8b42-504013783a21",
   "metadata": {},
   "outputs": [
    {
     "name": "stdout",
     "output_type": "stream",
     "text": [
      "'Listen' and 'Silent' are anagrams.\n"
     ]
    }
   ],
   "source": [
    "def are_anagrams(string1, string2):\n",
    "    # Remove spaces and convert to lowercase for uniformity\n",
    "    clean_string1 = ''.join(string1.split()).lower()\n",
    "    clean_string2 = ''.join(string2.split()).lower()\n",
    "    \n",
    "    # Sort and compare the characters in both strings\n",
    "    return sorted(clean_string1) == sorted(clean_string2)\n",
    "\n",
    "# Example usage\n",
    "str1 = \"Listen\"\n",
    "str2 = \"Silent\"\n",
    "if are_anagrams(str1, str2):\n",
    "    print(f\"'{str1}' and '{str2}' are anagrams.\")\n",
    "else:\n",
    "    print(f\"'{str1}' and '{str2}' are not anagrams.\")\n"
   ]
  },
  {
   "cell_type": "markdown",
   "id": "5d2675e5-cc1d-4273-8df9-4808c5ac72e5",
   "metadata": {},
   "source": [
    "Q5. Write a code to find all occurrences of a given substring within another string"
   ]
  },
  {
   "cell_type": "code",
   "execution_count": 6,
   "id": "a298f184-c360-4284-bbcd-7610ff196065",
   "metadata": {},
   "outputs": [],
   "source": [
    "def find_substring_occurrences(main_string, substring):\n",
    "    # Initialize an empty list to store the indices\n",
    "    indices = []\n",
    "    start = 0\n",
    "    \n",
    "    # Use a loop to find all occurrences\n",
    "    while True:\n",
    "        # Find the next occurrence of the substring\n",
    "        start = main_string.find(substring, start)\n",
    "        \n",
    "        # Break the loop if no more occurrences are found\n",
    "        if start == -1:\n",
    "            break\n",
    "        \n",
    "        # Append the index to the list\n",
    "        indices.append(start)\n",
    "        \n",
    "        # Move the start position forward to continue the search\n",
    "        start += 1  # You can adjust this to `start += len(substring)` for non-overlapping matches\n",
    "    \n",
    "    return indices\n"
   ]
  },
  {
   "cell_type": "markdown",
   "id": "22e1eb37-0289-4d4e-bd1b-e9a04088f1b6",
   "metadata": {},
   "source": [
    "Q6. Write a code to perform basic string compression using the counts of repeated characters"
   ]
  },
  {
   "cell_type": "code",
   "execution_count": 9,
   "id": "6581d4eb-d8f4-45d6-9807-b571f81f63f6",
   "metadata": {},
   "outputs": [],
   "source": [
    "def compress_string(input_string):\n",
    "    # Initialize variables\n",
    "    compressed = []\n",
    "    count = 1\n",
    "    \n",
    "    # Iterate through the string\n",
    "    for i in range(1, len(input_string)):\n",
    "        if input_string[i] == input_string[i - 1]:\n",
    "            # Increment count if current character matches the previous one\n",
    "            count += 1\n",
    "        else:\n",
    "            # Append character and count to the compressed list\n",
    "            compressed.append(input_string[i - 1] + str(count))\n",
    "            count = 1  # Reset count\n",
    "    \n",
    "    # Add the last group to the compressed list\n",
    "    if input_string:\n",
    "        compressed.append(input_string[-1] + str(count))\n",
    "    \n",
    "    # Join the compressed list into a string\n",
    "    compressed_string = ''.join(compressed)\n",
    "    \n",
    "    # Return the original string if compression does not reduce size\n",
    "    return compressed_string if len(compressed_string) < len(input_string) else input_string\n",
    "\n"
   ]
  },
  {
   "cell_type": "markdown",
   "id": "80ee7d77-c0a4-4bd6-8338-b59a977e1b6b",
   "metadata": {},
   "source": [
    "Q7. Write a code to determine if a string has all unique characters"
   ]
  },
  {
   "cell_type": "code",
   "execution_count": 12,
   "id": "e6364e9f-763d-4609-9561-a647a2902ed4",
   "metadata": {},
   "outputs": [],
   "source": [
    "def has_all_unique_characters(input_string):\n",
    "    # Use a set to track characters\n",
    "    seen_characters = set()\n",
    "    \n",
    "    for char in input_string:\n",
    "        # If the character is already in the set, it's not unique\n",
    "        if char in seen_characters:\n",
    "            return False\n",
    "        seen_characters.add(char)\n",
    "    \n",
    "    return True\n"
   ]
  },
  {
   "cell_type": "markdown",
   "id": "6ac0bfb9-2e8a-44bb-9d8b-01dc9cd70ddf",
   "metadata": {},
   "source": [
    "Q8. Write a code to convert a given string to uppercase or lowercase"
   ]
  },
  {
   "cell_type": "code",
   "execution_count": 15,
   "id": "04017822-adc6-427f-822a-bd9fecfb1514",
   "metadata": {},
   "outputs": [],
   "source": [
    "def convert_case(input_string):\n",
    "    # Convert to uppercase\n",
    "    uppercase = input_string.upper()\n",
    "    # Convert to lowercase\n",
    "    lowercase = input_string.lower()\n",
    "    return uppercase, lowercase\n"
   ]
  },
  {
   "cell_type": "markdown",
   "id": "c08c41e1-8771-46f0-bc82-5338a2f8b6d0",
   "metadata": {},
   "source": [
    "Q9. Write a code to count the number of words in a string"
   ]
  },
  {
   "cell_type": "code",
   "execution_count": 18,
   "id": "9b0613c8-2423-4f0a-a8b8-508c91aa1024",
   "metadata": {},
   "outputs": [],
   "source": [
    "def count_words(input_string):\n",
    "    # Split the string into words based on whitespace\n",
    "    words = input_string.split()\n",
    "    # Return the count of words\n",
    "    return len(words)\n"
   ]
  },
  {
   "cell_type": "markdown",
   "id": "c2b31cc6-35f4-471f-881a-e91e2c349e22",
   "metadata": {},
   "source": [
    "Q10. Write a code to concatenate two strings without using the + operator"
   ]
  },
  {
   "cell_type": "code",
   "execution_count": 22,
   "id": "a4c13b44-ac0c-46c4-acca-9afe6500d96d",
   "metadata": {},
   "outputs": [],
   "source": [
    "def concatenate_strings(string1, string2):\n",
    "    # Use the join method to concatenate the strings\n",
    "    return \"\".join([string1, string2])\n"
   ]
  },
  {
   "cell_type": "markdown",
   "id": "c2f2fd2f-1cdd-4d89-8752-b5c4c33008e9",
   "metadata": {},
   "source": [
    "Q11. Write a code to remove all occurrences of a specific element from a list"
   ]
  },
  {
   "cell_type": "code",
   "execution_count": 26,
   "id": "df5ca7a6-5185-453a-922d-a38f61894ab1",
   "metadata": {},
   "outputs": [],
   "source": [
    "def remove_occurrences(input_list, element):\n",
    "    # Use list comprehension to filter out the element\n",
    "    return [item for item in input_list if item != element]\n"
   ]
  },
  {
   "cell_type": "markdown",
   "id": "88afc954-e02d-4585-9ce9-fffde6515fd6",
   "metadata": {},
   "source": [
    "Q12. Implement a code to find the second largest number in a given list of integers"
   ]
  },
  {
   "cell_type": "code",
   "execution_count": 29,
   "id": "14b1c5ea-87f6-40d0-88c2-a988076045dc",
   "metadata": {},
   "outputs": [],
   "source": [
    "def second_largest(input_list):\n",
    "    # Remove duplicates by converting the list to a set\n",
    "    unique_numbers = set(input_list)\n",
    "    \n",
    "    # If there are less than two unique numbers, return None\n",
    "    if len(unique_numbers) < 2:\n",
    "        return None\n",
    "    \n",
    "    # Remove the largest number\n",
    "    unique_numbers.remove(max(unique_numbers))\n",
    "    \n",
    "    # Return the new largest number, which is the second largest overall\n",
    "    return max(unique_numbers)\n",
    "\n"
   ]
  },
  {
   "cell_type": "markdown",
   "id": "f12de0c9-0af6-4bd7-a8bc-15231d8441cc",
   "metadata": {},
   "source": [
    "Q13. Create a code to count the occurrences of each element in a list and return a dictionary with elements as\n",
    "keys and their counts as values"
   ]
  },
  {
   "cell_type": "code",
   "execution_count": 32,
   "id": "5e5a76bb-e80b-4ac9-9a51-724acd0c197b",
   "metadata": {},
   "outputs": [],
   "source": [
    "def count_occurrences(input_list):\n",
    "    # Initialize an empty dictionary to store counts\n",
    "    counts = {}\n",
    "    \n",
    "    # Iterate through each element in the list\n",
    "    for item in input_list:\n",
    "        # Update the count for the item\n",
    "        counts[item] = counts.get(item, 0) + 1\n",
    "    \n",
    "    return counts\n",
    "\n"
   ]
  },
  {
   "cell_type": "markdown",
   "id": "9a8d3b50-7883-4316-8586-83672d92d140",
   "metadata": {},
   "source": [
    "Q14. Write a code to reverse a list in-place without using any built-in reverse functions"
   ]
  },
  {
   "cell_type": "code",
   "execution_count": 35,
   "id": "64a05fc1-1335-4b4a-8ebe-2106e50792fe",
   "metadata": {},
   "outputs": [],
   "source": [
    "def reverse_list(input_list):\n",
    "    # Initialize two pointers, one at the start and one at the end of the list\n",
    "    start, end = 0, len(input_list) - 1\n",
    "    \n",
    "    # Swap the elements at start and end pointers until they meet in the middle\n",
    "    while start < end:\n",
    "        # Swap the elements\n",
    "        input_list[start], input_list[end] = input_list[end], input_list[start]\n",
    "        \n",
    "        # Move the pointers towards the center\n",
    "        start += 1\n",
    "        end -= 1\n"
   ]
  },
  {
   "cell_type": "markdown",
   "id": "7db66d15-c54a-40cc-9564-826660d7599b",
   "metadata": {},
   "source": [
    "Q15. Implement a code to find and remove duplicates from a list while preserving the original order of\n",
    "elements"
   ]
  },
  {
   "cell_type": "code",
   "execution_count": 38,
   "id": "797c3460-3d42-4c60-b39c-c360de883223",
   "metadata": {},
   "outputs": [],
   "source": [
    "def remove_duplicates(input_list):\n",
    "    # Initialize an empty set to track seen elements\n",
    "    seen = set()\n",
    "    # Initialize an empty list to store the result without duplicates\n",
    "    result = []\n",
    "    \n",
    "    # Iterate through the input list\n",
    "    for item in input_list:\n",
    "        # If the item is not in the seen set, add it to both the seen set and the result list\n",
    "        if item not in seen:\n",
    "            seen.add(item)\n",
    "            result.append(item)\n",
    "    \n",
    "    return result\n",
    "\n"
   ]
  },
  {
   "cell_type": "markdown",
   "id": "a900fd79-abad-4510-8314-4af1627463bc",
   "metadata": {},
   "source": [
    "Q16. Create a code to check if a given list is sorted (either in ascending or descending order) or not"
   ]
  },
  {
   "cell_type": "code",
   "execution_count": 40,
   "id": "221bacaa-6b82-4562-8777-b243acfaca7d",
   "metadata": {},
   "outputs": [],
   "source": [
    "def is_sorted(input_list):\n",
    "    # Check if the list is sorted in ascending order\n",
    "    if all(input_list[i] <= input_list[i + 1] for i in range(len(input_list) - 1)):\n",
    "        return \"Ascending\"\n",
    "    \n",
    "    # Check if the list is sorted in descending order\n",
    "    elif all(input_list[i] >= input_list[i + 1] for i in range(len(input_list) - 1)):\n",
    "        return \"Descending\"\n",
    "    \n",
    "    # If neither ascending nor descending, return \"Not Sorted\"\n",
    "    else:\n",
    "        return \"Not Sorted\"\n",
    "\n"
   ]
  },
  {
   "cell_type": "markdown",
   "id": "8deb6a8b-2c79-49c8-98c1-bb76beff0ad0",
   "metadata": {},
   "source": [
    "Q17.  Write a code to merge two sorted lists into a single sorted list"
   ]
  },
  {
   "cell_type": "code",
   "execution_count": 42,
   "id": "439cb824-bdb9-4991-bee3-ae99927eeb08",
   "metadata": {},
   "outputs": [],
   "source": [
    "def merge_sorted_lists(list1, list2):\n",
    "    # Initialize pointers for both lists\n",
    "    i, j = 0, 0\n",
    "    merged_list = []\n",
    "\n",
    "    # Traverse both lists and append the smaller element to the merged list\n",
    "    while i < len(list1) and j < len(list2):\n",
    "        if list1[i] < list2[j]:\n",
    "            merged_list.append(list1[i])\n",
    "            i += 1\n",
    "        else:\n",
    "            merged_list.append(list2[j])\n",
    "            j += 1\n",
    "    \n",
    "    # Append remaining elements from list1 or list2\n",
    "    merged_list.extend(list1[i:])\n",
    "    merged_list.extend(list2[j:])\n",
    "    \n",
    "    return merged_list\n"
   ]
  },
  {
   "cell_type": "markdown",
   "id": "b0732b71-8ee8-4ca7-8960-35ac992afaed",
   "metadata": {},
   "source": [
    "Q18. Implement a code to find the intersection of two given lists"
   ]
  },
  {
   "cell_type": "code",
   "execution_count": 44,
   "id": "0431e131-ca2e-44bd-8a83-60b43dabf67c",
   "metadata": {},
   "outputs": [],
   "source": [
    "def intersection_of_lists(list1, list2):\n",
    "    # Convert lists to sets to find the intersection\n",
    "    set1 = set(list1)\n",
    "    set2 = set(list2)\n",
    "    \n",
    "    # Find the intersection and return as a list\n",
    "    return list(set1 & set2)\n"
   ]
  },
  {
   "cell_type": "markdown",
   "id": "7933bd31-74cd-4dd7-ba28-84209673ffd9",
   "metadata": {},
   "source": [
    "Q19. Create a code to find the union of two lists without duplicates"
   ]
  },
  {
   "cell_type": "code",
   "execution_count": 47,
   "id": "27b495ac-6e1f-445d-ad29-f5ac5f6c5dc6",
   "metadata": {},
   "outputs": [],
   "source": [
    "def union_of_lists(list1, list2):\n",
    "    # Convert lists to sets to remove duplicates and find the union\n",
    "    set1 = set(list1)\n",
    "    set2 = set(list2)\n",
    "    \n",
    "    # Find the union of both sets and return it as a list\n",
    "    return list(set1 | set2)\n"
   ]
  },
  {
   "cell_type": "markdown",
   "id": "71d224fd-a9ec-4fb1-a671-52fea25a5bdc",
   "metadata": {},
   "source": [
    "Q20. Write a code to shuffle a given list randomly without using any built-in shuffle functions"
   ]
  },
  {
   "cell_type": "code",
   "execution_count": null,
   "id": "573752c7-e79b-4208-b8d2-cad3543fe7d5",
   "metadata": {},
   "outputs": [],
   "source": [
    "import random\n",
    "\n",
    "def shuffle_list(input_list):\n",
    "    # Get the length of the list\n",
    "    n = len(input_list)\n",
    "    \n",
    "    # Iterate over the list from the last element to the second element\n",
    "    for i in range(n - 1, 0, -1):\n",
    "        # Generate a random index from 0 to i\n",
    "        j = random.randint(0, i)\n",
    "        \n",
    "        # Swap the elements at i and j\n",
    "        input_list[i], input_list[j] = input_list[j], input_list[i]\n",
    "    \n",
    "    return input_list"
   ]
  },
  {
   "cell_type": "markdown",
   "id": "620a5553-7899-41a3-b437-013bbeb9e5ef",
   "metadata": {},
   "source": [
    "Q21. Write a code that takes two tuples as input and returns a new tuple containing elements that are\n",
    "common to both input tuples"
   ]
  },
  {
   "cell_type": "code",
   "execution_count": 50,
   "id": "f9f40b54-944a-4c00-9fda-008e679b453f",
   "metadata": {},
   "outputs": [],
   "source": [
    "def intersection_of_tuples(tuple1, tuple2):\n",
    "    # Convert both tuples to sets to find the common elements\n",
    "    set1 = set(tuple1)\n",
    "    set2 = set(tuple2)\n",
    "    \n",
    "    # Find the intersection of both sets and return as a tuple\n",
    "    return tuple(set1 & set2)\n"
   ]
  },
  {
   "cell_type": "markdown",
   "id": "178ad8c7-0768-49a4-92d9-56aa7f8f881d",
   "metadata": {},
   "source": [
    "Q22. Create a code that prompts the user to enter two sets of integers separated by commas. Then, print the\n",
    "intersection of these two sets"
   ]
  },
  {
   "cell_type": "code",
   "execution_count": null,
   "id": "3ba8a675-474a-46e7-b923-61bfcc9ef8e5",
   "metadata": {},
   "outputs": [],
   "source": [
    "def get_set_from_input(prompt):\n",
    "    # Prompt the user to enter a set of integers\n",
    "    user_input = input(prompt)\n",
    "    # Convert the input string into a list of integers and then into a set\n",
    "    return set(map(int, user_input.split(',')))\n",
    "\n",
    "def main():\n",
    "    # Get two sets from the user\n",
    "    set1 = get_set_from_input(\"Enter the first set of integers (separated by commas): \")\n",
    "    set2 = get_set_from_input(\"Enter the second set of integers (separated by commas): \")\n",
    "    \n",
    "    # Find the intersection of the two sets\n",
    "    intersection = set1 & set2\n",
    "    \n",
    "    # Print the intersection\n",
    "    print(f\"Intersection of the two sets: {intersection}\")\n",
    "\n",
    "# Run the main function\n",
    "main()\n"
   ]
  },
  {
   "cell_type": "markdown",
   "id": "be2054cb-2008-478b-8a1f-a53e7860afb6",
   "metadata": {},
   "source": [
    "Q23. Write a code to concatenate two tuples. The function should take two tuples as input and return a new\n",
    "tuple containing elements from both input tuples."
   ]
  },
  {
   "cell_type": "code",
   "execution_count": 52,
   "id": "529e5d36-db95-48e6-ac83-05ed59448ed3",
   "metadata": {},
   "outputs": [],
   "source": [
    "def concatenate_tuples(tuple1, tuple2):\n",
    "    # Concatenate the two tuples\n",
    "    return tuple1 + tuple2\n"
   ]
  },
  {
   "cell_type": "markdown",
   "id": "95aa8191-6949-4d5f-86d2-97be01181738",
   "metadata": {},
   "source": [
    "Q24. Develop a code that prompts the user to input two sets of strings. Then, print the elements that are\n",
    "present in the first set but not in the second set"
   ]
  },
  {
   "cell_type": "code",
   "execution_count": 55,
   "id": "a9d19336-6627-40d1-b2c4-1b29070677bc",
   "metadata": {},
   "outputs": [
    {
     "name": "stdin",
     "output_type": "stream",
     "text": [
      "Enter the first set of strings (separated by commas):  Sharad,Pratap\n",
      "Enter the second set of strings (separated by commas):  Sharad,Singh\n"
     ]
    },
    {
     "name": "stdout",
     "output_type": "stream",
     "text": [
      "Elements in the first set but not in the second set: {'Pratap'}\n"
     ]
    }
   ],
   "source": [
    "def get_set_from_input(prompt):\n",
    "    # Prompt the user to enter a set of strings\n",
    "    user_input = input(prompt)\n",
    "    # Convert the input string into a list of strings and then into a set\n",
    "    return set(user_input.split(','))\n",
    "\n",
    "def main():\n",
    "    # Get two sets of strings from the user\n",
    "    set1 = get_set_from_input(\"Enter the first set of strings (separated by commas): \")\n",
    "    set2 = get_set_from_input(\"Enter the second set of strings (separated by commas): \")\n",
    "    \n",
    "    # Find the elements that are in set1 but not in set2\n",
    "    difference = set1 - set2\n",
    "    \n",
    "    # Print the difference\n",
    "    print(f\"Elements in the first set but not in the second set: {difference}\")\n",
    "\n",
    "# Run the main function\n",
    "main()"
   ]
  },
  {
   "cell_type": "markdown",
   "id": "c000da48-3e85-413c-99eb-55bd185c7eca",
   "metadata": {},
   "source": [
    "Q25. Create a code that takes a tuple and two integers as input. The function should return a new tuple\n",
    "containing elements from the original tuple within the specified range of indices"
   ]
  },
  {
   "cell_type": "code",
   "execution_count": 57,
   "id": "964eb44e-5a7d-4db4-b6a5-0fd2622b9c1e",
   "metadata": {},
   "outputs": [],
   "source": [
    "def slice_tuple(input_tuple, start_index, end_index):\n",
    "    # Return a new tuple containing elements from the start_index to end_index\n",
    "    return input_tuple[start_index:end_index]\n"
   ]
  },
  {
   "cell_type": "markdown",
   "id": "e7da0310-e244-47d5-acd8-8630668d0904",
   "metadata": {},
   "source": [
    "Q26. Write a code that prompts the user to input two sets of characters. Then, print the union of these two sets"
   ]
  },
  {
   "cell_type": "code",
   "execution_count": null,
   "id": "d19976a7-c666-4a8a-a4e6-d99512a45c25",
   "metadata": {},
   "outputs": [],
   "source": [
    "def get_set_from_input(prompt):\n",
    "    # Prompt the user to enter a set of characters\n",
    "    user_input = input(prompt)\n",
    "    # Convert the input string into a set of characters\n",
    "    return set(user_input)\n",
    "\n",
    "def main():\n",
    "    # Get two sets of characters from the user\n",
    "    set1 = get_set_from_input(\"Enter the first set of characters: \")\n",
    "    set2 = get_set_from_input(\"Enter the second set of characters: \")\n",
    "    \n",
    "    # Find the union of both sets\n",
    "    union = set1 | set2\n",
    "    \n",
    "    # Print the union\n",
    "    print(f\"Union of the two sets: {union}\")\n",
    "\n",
    "# Run the main function\n",
    "main()\n"
   ]
  },
  {
   "cell_type": "markdown",
   "id": "4ae706c7-607d-49d9-bdb1-f05a6526bb3b",
   "metadata": {},
   "source": [
    "Q27. Develop a code that takes a tuple of integers as input. The function should return the maximum and\n",
    "minimum values from the tuple using tuple unpacking"
   ]
  },
  {
   "cell_type": "code",
   "execution_count": null,
   "id": "e0d797ee-2f0d-4501-8601-c47336f7e192",
   "metadata": {},
   "outputs": [],
   "source": [
    "def find_max_min(input_tuple):\n",
    "    # Use tuple unpacking to find the maximum and minimum values\n",
    "    return min(input_tuple), max(input_tuple)\n",
    "\n",
    "# Example usage\n",
    "user_input = input(\"Enter a tuple of integers (separated by commas): \")\n",
    "# Convert the input string into a tuple of integers\n",
    "input_tuple = tuple(map(int, user_input.split(',')))\n",
    "\n",
    "# Find the minimum and maximum values\n",
    "min_value, max_value = find_max_min(input_tuple)\n",
    "\n",
    "# Print the results\n",
    "print(f\"Minimum value: {min_value}\")\n",
    "print(f\"Maximum value: {max_value}\")"
   ]
  },
  {
   "cell_type": "markdown",
   "id": "f6535644-ec58-4325-9972-4383630a877c",
   "metadata": {},
   "source": [
    "Q28. Create a code that defines two sets of integers. Then, print the union, intersection, and difference of these\n",
    "two sets"
   ]
  },
  {
   "cell_type": "code",
   "execution_count": null,
   "id": "d522d4ec-4f5e-4505-ad49-e48334610b33",
   "metadata": {},
   "outputs": [],
   "source": [
    "def set_operations(set1, set2):\n",
    "    # Calculate union, intersection, and difference\n",
    "    union = set1 | set2\n",
    "    intersection = set1 & set2\n",
    "    difference = set1 - set2\n",
    "    \n",
    "    # Print the results\n",
    "    print(f\"Union of the two sets: {union}\")\n",
    "    print(f\"Intersection of the two sets: {intersection}\")\n",
    "    print(f\"Difference of the first set from the second set: {difference}\")\n",
    "\n",
    "# Define two sets of integers\n",
    "set1 = {1, 2, 3, 4, 5}\n",
    "set2 = {4, 5, 6, 7, 8}\n",
    "\n",
    "# Perform set operations\n",
    "set_operations(set1, set2)\n"
   ]
  },
  {
   "cell_type": "markdown",
   "id": "ccfaffac-c7e6-4804-b35d-cfdb0617fc55",
   "metadata": {},
   "source": [
    "Q29. Write a code that takes a tuple and an element as input. The function should return the count of\n",
    "occurrences of the given element in the tuple"
   ]
  },
  {
   "cell_type": "code",
   "execution_count": null,
   "id": "a5506d95-01c5-449a-9a45-4885f8b63852",
   "metadata": {},
   "outputs": [],
   "source": [
    "def count_occurrences(input_tuple, element):\n",
    "    # Return the count of occurrences of the element in the tuple\n",
    "    return input_tuple.count(element)\n",
    "\n",
    "# Example usage\n",
    "user_input_tuple = input(\"Enter a tuple of elements (separated by commas): \")\n",
    "# Convert the input string into a tuple\n",
    "input_tuple = tuple(map(int, user_input_tuple.split(',')))\n",
    "\n",
    "element = int(input(\"Enter the element to count occurrences of: \"))\n",
    "\n",
    "# Get the count of occurrences\n",
    "count = count_occurrences(input_tuple, element)\n",
    "\n",
    "# Print the result\n",
    "print(f\"The element {element} occurs {count} time(s) in the tuple.\")\n"
   ]
  },
  {
   "cell_type": "markdown",
   "id": "8346aae7-0913-4291-a82b-a5eec20d8964",
   "metadata": {},
   "source": [
    "Q30. Develop a code that prompts the user to input two sets of strings. Then, print the symmetric difference of\n",
    "these two sets"
   ]
  },
  {
   "cell_type": "code",
   "execution_count": null,
   "id": "4f90518f-ae82-4b97-b569-9553b43bc445",
   "metadata": {},
   "outputs": [],
   "source": [
    "def get_set_from_input(prompt):\n",
    "    # Prompt the user to enter a set of strings\n",
    "    user_input = input(prompt)\n",
    "    # Convert the input string into a set of strings\n",
    "    return set(user_input.split(','))\n",
    "\n",
    "def main():\n",
    "    # Get two sets of strings from the user\n",
    "    set1 = get_set_from_input(\"Enter the first set of strings (separated by commas): \")\n",
    "    set2 = get_set_from_input(\"Enter the second set of strings (separated by commas): \")\n",
    "    \n",
    "    # Find the symmetric difference of both sets\n",
    "    symmetric_difference = set1 ^ set2\n",
    "    \n",
    "    # Print the symmetric difference\n",
    "    print(f\"Symmetric difference of the two sets: {symmetric_difference}\")\n",
    "\n",
    "# Run the main function\n",
    "main()"
   ]
  },
  {
   "cell_type": "markdown",
   "id": "1a8449a3-75b8-4748-a259-ea57c7134262",
   "metadata": {},
   "source": [
    "Q31. Write a code that takes a list of words as input and returns a dictionary where the keys are unique words\n",
    "and the values are the frequencies of those words in the input list."
   ]
  },
  {
   "cell_type": "code",
   "execution_count": null,
   "id": "70fa72fe-041f-4deb-b76b-682ea3431784",
   "metadata": {},
   "outputs": [],
   "source": [
    "def word_frequencies(word_list):\n",
    "    # Create an empty dictionary to store the word frequencies\n",
    "    frequency_dict = {}\n",
    "    \n",
    "    # Iterate over the words in the list\n",
    "    for word in word_list:\n",
    "        # If the word is already in the dictionary, increment its count\n",
    "        if word in frequency_dict:\n",
    "            frequency_dict[word] += 1\n",
    "        else:\n",
    "            # Otherwise, add the word to the dictionary with a count of 1\n",
    "            frequency_dict[word] = 1\n",
    "            \n",
    "    return frequency_dict\n"
   ]
  },
  {
   "cell_type": "markdown",
   "id": "3209e98c-20d2-4f0a-bf2c-3f219433284b",
   "metadata": {},
   "source": [
    "Q32. Write a code that takes two dictionaries as input and merges them into a single dictionary. If there are\n",
    "common keys, the values should be added together"
   ]
  },
  {
   "cell_type": "code",
   "execution_count": 64,
   "id": "6c509c29-b57e-4c2f-ba3d-04daa487f53a",
   "metadata": {},
   "outputs": [],
   "source": [
    "def merge_dictionaries(dict1, dict2):\n",
    "    # Create a new dictionary to store the merged result\n",
    "    merged_dict = dict1.copy()  # Start with the first dictionary\n",
    "    \n",
    "    # Iterate over the second dictionary\n",
    "    for key, value in dict2.items():\n",
    "        if key in merged_dict:\n",
    "            # If the key is already in the merged dictionary, add the values together\n",
    "            merged_dict[key] += value\n",
    "        else:\n",
    "            # If the key is not in the merged dictionary, add the key-value pair\n",
    "            merged_dict[key] = value\n",
    "            \n",
    "    return merged_dict\n",
    "\n"
   ]
  },
  {
   "cell_type": "markdown",
   "id": "2e3ffe91-df63-40b8-a2de-bc209f6369c1",
   "metadata": {},
   "source": [
    "Q33. Write a code to access a value in a nested dictionary. The function should take the dictionary and a list of\n",
    "keys as input, and return the corresponding value. If any of the keys do not exist in the dictionary, the\n",
    "function should return None"
   ]
  },
  {
   "cell_type": "code",
   "execution_count": 66,
   "id": "fe3431ce-ff2d-49da-814b-5a634e2528ef",
   "metadata": {},
   "outputs": [],
   "source": [
    "def access_nested_dict_value(nested_dict, keys):\n",
    "    # Iterate over the list of keys\n",
    "    for key in keys:\n",
    "        # Check if the current key exists in the dictionary\n",
    "        if key in nested_dict:\n",
    "            # Move to the next level in the dictionary\n",
    "            nested_dict = nested_dict[key]\n",
    "        else:\n",
    "            # Return None if the key does not exist\n",
    "            return None\n",
    "    # Return the final value\n",
    "    return nested_dict\n",
    "\n"
   ]
  },
  {
   "cell_type": "markdown",
   "id": "f50962ed-4f57-4c52-ae5e-be7f7fb79ffe",
   "metadata": {},
   "source": [
    "Q34. Write a code that takes a dictionary as input and returns a sorted version of it based on the values. You\n",
    "can choose whether to sort in ascending or descending order"
   ]
  },
  {
   "cell_type": "code",
   "execution_count": null,
   "id": "41b3e114-d6f4-47df-9ef9-019f0dc08a61",
   "metadata": {},
   "outputs": [],
   "source": [
    "def sort_dict_by_value(input_dict, descending=False):\n",
    "    # Sort the dictionary by values\n",
    "    sorted_dict = dict(sorted(input_dict.items(), key=lambda item: item[1], reverse=descending))\n",
    "    return sorted_dict\n"
   ]
  },
  {
   "cell_type": "markdown",
   "id": "623778fb-d245-4e82-9b9d-ca7de6cbb3c1",
   "metadata": {},
   "source": [
    "Q35. Write a code that inverts a dictionary, swapping keys and values. Ensure that the inverted dictionary\n",
    "correctly handles cases where multiple keys have the same value by storing the keys as a list in the\n",
    "inverted dictionary"
   ]
  },
  {
   "cell_type": "code",
   "execution_count": null,
   "id": "70952bc1-eaf8-4fad-9dbf-baf5ee4e29fb",
   "metadata": {},
   "outputs": [],
   "source": [
    "def invert_dict(input_dict):\n",
    "    inverted_dict = {}\n",
    "    \n",
    "    # Iterate through each key-value pair in the original dictionary\n",
    "    for key, value in input_dict.items():\n",
    "        # If the value is already a key in the inverted dictionary, append the current key to the list\n",
    "        if value in inverted_dict:\n",
    "            inverted_dict[value].append(key)\n",
    "        else:\n",
    "            # If the value is not in the inverted dictionary, create a new entry with the value as the key\n",
    "            inverted_dict[value] = [key]\n",
    "    \n",
    "    return inverted_dict"
   ]
  }
 ],
 "metadata": {
  "kernelspec": {
   "display_name": "Python 3 (ipykernel)",
   "language": "python",
   "name": "python3"
  },
  "language_info": {
   "codemirror_mode": {
    "name": "ipython",
    "version": 3
   },
   "file_extension": ".py",
   "mimetype": "text/x-python",
   "name": "python",
   "nbconvert_exporter": "python",
   "pygments_lexer": "ipython3",
   "version": "3.12.4"
  }
 },
 "nbformat": 4,
 "nbformat_minor": 5
}
